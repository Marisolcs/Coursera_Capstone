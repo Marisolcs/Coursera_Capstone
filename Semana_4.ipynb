{
  "nbformat": 4,
  "nbformat_minor": 0,
  "metadata": {
    "colab": {
      "name": "Semana 4.ipynb",
      "provenance": [],
      "authorship_tag": "ABX9TyMs+y/p5EAEgDRS7kYFptXu",
      "include_colab_link": true
    },
    "kernelspec": {
      "name": "python3",
      "display_name": "Python 3"
    },
    "language_info": {
      "name": "python"
    }
  },
  "cells": [
    {
      "cell_type": "markdown",
      "metadata": {
        "id": "view-in-github",
        "colab_type": "text"
      },
      "source": [
        "<a href=\"https://colab.research.google.com/github/Marisolcs/Coursera_Capstone/blob/main/Semana_4.ipynb\" target=\"_parent\"><img src=\"https://colab.research.google.com/assets/colab-badge.svg\" alt=\"Open In Colab\"/></a>"
      ]
    },
    {
      "cell_type": "markdown",
      "source": [
        "#Problema"
      ],
      "metadata": {
        "id": "Ay6Oykp1c4Gv"
      }
    },
    {
      "cell_type": "markdown",
      "source": [
        "**Descripcion del problema y discusión de antecedentes**\n",
        "\n",
        "Hoy en día existen gran variedad de opciones de restaurantes peruanos a nivel mundial. Alrededor de 3 millones de peruanos han migrado a otros países y siempre buscan un restaurante peruano en sus vecindarios o en las proximidades. Sin embargo, no todos los emigrantes peruanos logran ubicar un restaurante peruano en las cercania sino más bien en lugares lejanos. Esto sucede en Canada, el 2do pais mas grande del mundo con casi 10 millones de kilometros. En los últimos años, miles de compatriotas peruanos han migrado a Canada buscando nuevas oportunidades debido a la gran oferta de oportunidades laborales y de estudios que el país ofrece. Asimismo, las negociaciones y acuerdos entre Peru y Canadá han facilitado la migracion de peruanos a Canada. Sin embargo, Canada es uno de los países con menor cantidad de restaurantes peruanos en su territorio. Si bien existen restaurantes peruanos, se habla de aprox. 20 restaurantes, lo cual no es suficiente para los más de 30 mil peruanos residiendo en Canada en la actualidad y los 40 millones de canadienses que habitan en Canada. \n",
        "\n",
        "Por tanto, se considera importante evaluar la apertura de un restaurante de comida peruana en Toronto, la ciudad más grande de Canada y actualmente, el centro con mayor comercio del país. \n"
      ],
      "metadata": {
        "id": "sx5aGZwqc65d"
      }
    }
  ]
}